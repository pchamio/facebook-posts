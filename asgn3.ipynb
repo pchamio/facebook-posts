{
 "cells": [
  {
   "cell_type": "markdown",
   "metadata": {},
   "source": [
    "<h1>FIT5197 Assignment 3</h1>\n",
    "\n",
    "Student Name: FILL IN HERE\n",
    "\n",
    "Student ID: FILL IN HERE\n",
    "\n",
    "Tutorial Time: FILL IN HERE\n",
    "\n",
    "Tutor's Name: FILL IN HERE"
   ]
  },
  {
   "cell_type": "markdown",
   "metadata": {
    "deletable": false,
    "editable": false,
    "nbgrader": {
     "checksum": "9b1393c7ca8445a3c371e25258a0e6a1",
     "grade": false,
     "grade_id": "cell-6c2d10a35f0ba057",
     "locked": true,
     "schema_version": 1,
     "solution": false
    }
   },
   "source": [
    "<h2>Introduction</h2>\n",
    "\n",
    "This assignment is out of a total of 64 marks (including 59 marks for questions, 2 marks for elegance of graphics, and 3 marks for code quality).\n",
    "\n",
    "<h3>Purpose of assignment</h3>\n",
    "To test your knowledge of hypothesis testing, linear and logistic regression.\n",
    "\n",
    "<h4>This assignment achieves the Learning Outcomes of Modelling for Data Analysis</h4>\n",
    "\n",
    "1. perform exploratory data analysis with descriptive statistics on given datasets;\n",
    "\n",
    "2. construct models for inferential statistical analysis;\n",
    "\n",
    "3. produce models for predictive statistical analysis\n",
    "\n",
    "4. perform fundamental random sampling, simulation and hypothesis testing for required scenarios;\n",
    "\n",
    "5. implement a model for data analysis through programming and scripting;\n",
    "\n",
    "6. interpret results for a variety of models.\n",
    "\n",
    "\n",
    "<h2><span style=\"color:darkgreen\">Do's</span> and <span style=\"color:darkred\">Don'ts</span></h2>\n",
    "\n",
    "<h3><span style=\"color:darkgreen\">Do's</span></h3>\n",
    "\n",
    "\n",
    "- <span style=\"color:darkgreen\">To complete this assignment, you will need to fill in several of the cells in the below notebook. Please make sure to follow all the instructions given in this assignment carefully and completely.</span>\n",
    "\n",
    "- <span style=\"color:darkgreen\">We recommend that you use Azure notebooks (just like for the previous assignment - you might find the video on Moodle for that assignment useful here too).</span>\n",
    "\n",
    "- <span style=\"color:darkgreen\">Marks are given for both correct answers and working out, so please make sure to provide all working out you use to reach your answer.</span>\n",
    "\n",
    "- <span style=\"color:darkgreen\">For questions which require R code, please make sure to put your code into the cell provided. You should not have to create any new cells to complete this assignment.</span>\n",
    "\n",
    "- <span style=\"color:darkgreen\">For questions which require written answers (i.e. questions that don't require code, and which do not explicitly state otherwise in the question), you may either write your answers by hand, scan them in as photos and embed those photos into your Jupyter notebook, or alternatively you can use Markdown to write your answers in the cells directly. We recommend the second method if you would like to learn Markdown and LaTeX (both of which are useful skills), but we do not require this.</span>\n",
    "\n",
    "- <span style=\"color:darkgreen\">Make sure you submit to Moodle a completed Jupyter Notebook .ipynb file and a .pdf file of the notebook (you can convert the file to a PDF within Jupyter by going to File -> Download as -> PDF)</span>\n",
    "\n",
    "- <span style=\"color:darkgreen\">Apply for special consideration if appropriate</span>\n",
    "- <span style=\"color:darkgreen\">Get support early from this unit or other services in the university</span>\n",
    "    - <span style=\"color:darkgreen\">Study skills</span>\n",
    "\t- <span style=\"color:darkgreen\">General support</span>\n",
    "\n",
    "<h3><span style=\"color:darkred\">Don'ts</span></h3>\n",
    "\n",
    "- \t<span style=\"color:darkred\">Don't submit late</span>\n",
    "    -\t<span style=\"color:darkred\">5% late penalty per day applies including weekends and public holidays </span>\n",
    "    -\t<span style=\"color:darkred\">e.g. 65/100 becomes 55/100 if 2 days late as 0.05*100=5</span>\n",
    "-\t<span style=\"color:darkred\">Don't your files together in one zip file</span>\n",
    "    -\t<span style=\"color:darkred\">Zip file submission will have a penalty of 10% as it adds to the manual handling of assignments. </span>\n",
    "-\t<span style=\"color:darkred\">Don't participate in plagiarism, collusion or contract cheating</span>\n",
    "    -\t<span style=\"color:darkred\">All suspected cases will be investigated</span>\n",
    "    -\t<span style=\"color:darkred\">consequences for such misconduct can include receiving zero marks for the assignment or unit or suspension or exclusion</span>\n",
    "    -\t<span style=\"color:darkred\">see university policy for more details</span>\n",
    "-   <span style=\"color:darkred\"><b>Don't import any libraries - you should be able to do all questions in this assignment without using the library() function (i.e. just using R's built-in functions). We reserve the right to deduct marks for using libraries to answer questions, if the libraries make the questions easier to answer.</b></span>\n",
    "\n",
    "\n",
    "<h3>Marking Criteria</h3>\n",
    "Your work will be marked on:\n",
    "\n",
    "- Correctness of answers\n",
    "- Quality of explanation and working out\n",
    "- Coding quality and accuracy\n",
    "- Visualisation quality and informativeness/labelling\n",
    "- Overall clarity\n",
    "\n",
    "Assignment 3 contributes to 15% of your final unit mark\n",
    "\n",
    "<h2>Additional Marks</h2>\n",
    "There are a couple of criteria which relate to the assignment as a whole. The criteria in this section are not bonus marks, but instead directly count towards the total marks for the assignment.\n",
    "\n",
    "<h3>Elegance of Graphics (2 marks)</h3>\n",
    "To ensure your graphics are of a high enough quality to receive the marks for elegance of graphics, please do one of the following:\n",
    "* Generate your graphs using R (where R code is required by the question) or some computer system such as Excel, R, Python, etc. (where R code is not required by the question), <b>OR</b>\n",
    "* Draw your graphs by hand, very neatly and with a ruler\n",
    "\n",
    "<h3>Code Quality (3 marks)</h3>\n",
    "To ensure your code is of a high enough quality to receive the marks for code quality, please ensure the following conditions are met:\n",
    "* Your code does not take too long to run (if a cell takes more than a minute to run, it takes too long UNLESS OTHERWISE NOTED)\n",
    "* No trivial optimisations are missing from the code - we don't expect perfection but if something is blatantly written in a very sub-optimal way we might dock code quality marks for this\n",
    "\n",
    "<h2>Bonus Marks</h2>\n",
    "For this assignment, there are several bonus marks available\n",
    "\n",
    "<h3>Use of Markdown/LaTeX (2 marks)</h3>\n",
    "Although we do not require that you use Markdown/LaTeX for this assignment, we have assigned 2 bonus marks to encourage you to try this. Markdown/LaTeX is a great skill to have up your sleeve when you're working on maths or trying to share your work with other people.\n",
    "To receive one bonus mark, you must use Markdown/LaTeX for a majority of the questions in this assignment (at least 3). To receive two bonus marks, you must use Markdown/LaTeX for all of the questions in this assignment, where appropriate (i.e. except when code is required instead, of course).\n",
    "\n",
    "You can see some documentation and examples for Jupyter's markdown and LaTeX system at the following links:\n",
    "\n",
    "https://jupyter-notebook.readthedocs.io/en/stable/examples/Notebook/Working%20With%20Markdown%20Cells.html\n",
    "https://jupyter-notebook.readthedocs.io/en/stable/examples/Notebook/Typesetting%20Equations.html\n"
   ]
  },
  {
   "cell_type": "markdown",
   "metadata": {
    "deletable": false,
    "editable": false,
    "nbgrader": {
     "checksum": "ae3a5fecd11ee60b35395657dcc05921",
     "grade": false,
     "grade_id": "cell-4be45724b45cc1af",
     "locked": true,
     "schema_version": 1,
     "solution": false
    }
   },
   "source": [
    "<h2>Question 1 - Confidence Intervals and Hypothesis Testing (20 marks)</h2>\n",
    "\n",
    "Previously, we worked with a company who was making phone cases using a new 3D printing method. Because 3D printing is not a perfect process, management wanted to know how many samples they should produce to get a good approximation for the failure probability of the process.\n",
    "\n",
    "This was several weeks ago, and the engineers have now begun testing the new 3D printing process. We are no longer concerned with whether a print is a \"success\" or \"failure\" - we are going to be more precise now. Although they will do more tests later, the engineers have performed an initial test run of 20 successful units (that is, they keep producing units until they have 20 \"successful\" prints).\n",
    "\n",
    "For this question, we are going to assume that the 3D print thickness is normally distributed."
   ]
  },
  {
   "cell_type": "code",
   "execution_count": null,
   "metadata": {
    "deletable": false,
    "editable": false,
    "nbgrader": {
     "checksum": "666df79a274a234ef49dd128d7147963",
     "grade": false,
     "grade_id": "cell-a0ce5b3aae506e53",
     "locked": true,
     "schema_version": 1,
     "solution": false
    }
   },
   "outputs": [],
   "source": [
    "test.20.units <- read.csv(\"test20units.csv\")$x\n",
    "head(test.20.units)"
   ]
  },
  {
   "cell_type": "markdown",
   "metadata": {
    "deletable": false,
    "editable": false,
    "nbgrader": {
     "checksum": "cb947cc220db00f332db486592691f20",
     "grade": false,
     "grade_id": "cell-fbda8f3df9a1b68b",
     "locked": true,
     "schema_version": 1,
     "solution": false
    }
   },
   "source": [
    "<h2>Question 1.a (2 marks)</h2>\n",
    "We have decided that, for the 3D printing process to be considered a success, we are going to require the following facts to be true (with a confidence level $\\alpha = 0.01$):\n",
    "\n",
    " - The mean print thickness must be 1mm\n",
    " - The confidence interval for the mean must be $\\leq$ 0.1mm wide\n",
    " \n",
    "We will test these facts by determining whether the corresponding values are within the 99% confidence intervals for our estimates, and also whether the wideness of our confidence intervals fits. That is, we will calculate a two-sided 99% confidence interval for the mean of the print thickness and see if 1mm is within that range, and whether that range has a total width $\\leq$ 0.1mm wide.\n",
    "\n",
    "Using R code, write a function conf.interval.mean.n, which takes two arguments (data and alpha) and returns a list containing two values:\n",
    "\n",
    " - list\\$lower: the <b>lower</b> end of the two-sided confidence interval of the mean of $data$ with confidence level $alpha$\n",
    " \n",
    " - list\\$upper: the <b>upper</b> end of the two-sided confidence interval of the mean of $data$ with confidence level $alpha$\n",
    " \n",
    "<b>For this question, since we both have a small sample size and also don't know the standard deviation of the population (we are using the estimate from the sample), use the t-distribution rather than the normal distribution</b>\n",
    "    \n",
    "The function should look something like this:\n",
    "\n",
    "    conf.interval.mean.n <- function(data, alpha) {\n",
    "        # Your code here\n",
    "    }\n",
    "    \n",
    "<b>Note: we are going to use hypothesis testing, rather than this confidence-interval based approach, later in this question. Hypothesis testing is a better way to determine whether the 3D printing process meets the requirements or not</b>"
   ]
  },
  {
   "cell_type": "code",
   "execution_count": null,
   "metadata": {
    "deletable": false,
    "nbgrader": {
     "checksum": "048207952c5faf6f8eb2b0a250f4732a",
     "grade": true,
     "grade_id": "cell-6fc55ddefc67def4",
     "locked": false,
     "points": 2,
     "schema_version": 1,
     "solution": true
    }
   },
   "outputs": [],
   "source": [
    "# your code here"
   ]
  },
  {
   "cell_type": "code",
   "execution_count": null,
   "metadata": {
    "deletable": false,
    "editable": false,
    "nbgrader": {
     "checksum": "6858c42bd96f32d68a5f821b8254624b",
     "grade": false,
     "grade_id": "cell-c7b43bf6a6473980",
     "locked": true,
     "schema_version": 1,
     "solution": false
    }
   },
   "outputs": [],
   "source": [
    "ci.mean.20 <- conf.interval.mean.t(test.20.units, 0.99)\n",
    "ci.mean.20"
   ]
  },
  {
   "cell_type": "markdown",
   "metadata": {
    "deletable": false,
    "editable": false,
    "nbgrader": {
     "checksum": "6b93608a771cc4aca084cf8e76e07b38",
     "grade": false,
     "grade_id": "cell-6f6cb83843ff1040",
     "locked": true,
     "schema_version": 1,
     "solution": false
    }
   },
   "source": [
    "<h2>Question 1.b  (2 marks)</h2>\n",
    "Are the two criteria established in Question 1.a met? That is, is the desired mean of 1mm thickness within the confidence interval, and is the confidence interval less than 0.2mm wide from the lower to upper bound?\n",
    "\n",
    "Using this question as an example, why is it important to consider both whether the value is within the confidence interval <b>and</b> how wide the confidence interval is (relative to how wide an error we are allowed)?"
   ]
  },
  {
   "cell_type": "markdown",
   "metadata": {
    "deletable": false,
    "nbgrader": {
     "checksum": "12b2c3024a5a9b76c71d34f96316d680",
     "grade": true,
     "grade_id": "cell-c15c8d94d9b5176f",
     "locked": false,
     "points": 2,
     "schema_version": 1,
     "solution": true
    }
   },
   "source": [
    "YOUR ANSWER HERE"
   ]
  },
  {
   "cell_type": "markdown",
   "metadata": {
    "deletable": false,
    "editable": false,
    "nbgrader": {
     "checksum": "52a12bf2fcc1a128fa540116f0dda995",
     "grade": false,
     "grade_id": "cell-cd75560a3b20eff3",
     "locked": true,
     "schema_version": 1,
     "solution": false
    }
   },
   "source": [
    "<h2>Question 1.c (6 marks)</h2>\n",
    "The engineers have developed two alternative methods for 3D printing the phone cases. The engineers are now trying to minimize \"warping\" (which is where phone units are not printed flat and are instead warped slightly - this warping is measured in millimeters).\n",
    "\n",
    "We have two datasets (one for each of the two new printing methods), where each dataset contains warping measurements from 50 prints produced using that dataset's 3D printing method. From our many tests with the original method, we know that the mean warping measurement for the original printing method is very close to 0.1mm (so we will use that as our estimate for the mean of the original population).\n",
    "\n",
    "The engineers have asked us to determine whether either of their new 3D printing methods are superior to the original method. To do this, we could just calculate the mean of each dataset's measurements and compare that to the 0.1mm mean of the original method, but this does not take into account the variance introduced by sampling from the population. Instead, we will use hypothesis testing.\n",
    "\n",
    "For each of the two new printing methods, each with datasets method1.50.units and method2.50.units respectively, we need to test the hypothesis that the mean of that method's dataset is <b>less</b> than the mean of the original population (i.e., less than 0.1mm). So, for each of the two printing methods, do the following (there are four cells below - the first cell imports the data, and the next three cells correspond to the following three points):\n",
    "\n",
    "- Create a hypothesis test (defining the null hypothesis and alternative hypothesis). Note that this should be a <b>one-sided</b> test.\n",
    "- Calculate a p-value using a t.test\n",
    "- Interpret this p-value, using a confidence level $\\alpha = 0.01$\n",
    "\n",
    "When interpreting the p-value, keep in mind that the goal is to determine whether each of the new methods is better than the original method (in terms of warping).\n",
    "\n",
    "<b>Do not use the inbuilt t.test function in R to answer this question. Use the formulas in the lecture notes to calculate the values from scratch. You may write your own version of a t-test function if you like, but you don't have to do this.</b>"
   ]
  },
  {
   "cell_type": "code",
   "execution_count": null,
   "metadata": {
    "deletable": false,
    "editable": false,
    "nbgrader": {
     "checksum": "f1437a67df56dd38894a106da9fff237",
     "grade": false,
     "grade_id": "cell-4c01ad9eb8d74efd",
     "locked": true,
     "schema_version": 1,
     "solution": false
    }
   },
   "outputs": [],
   "source": [
    "method1.50.units <- read.csv(\"method1_50units.csv\")$x\n",
    "method2.50.units <- read.csv(\"method2_50units.csv\")$x"
   ]
  },
  {
   "cell_type": "markdown",
   "metadata": {
    "deletable": false,
    "nbgrader": {
     "checksum": "a30ea8a2ee74606857d48ba8dd3794ad",
     "grade": true,
     "grade_id": "cell-f75742ba68d8e9d4",
     "locked": false,
     "points": 2,
     "schema_version": 1,
     "solution": true
    }
   },
   "source": [
    "YOUR ANSWER HERE"
   ]
  },
  {
   "cell_type": "code",
   "execution_count": null,
   "metadata": {
    "deletable": false,
    "nbgrader": {
     "checksum": "12daf3ac848c3973b08abe9900a37079",
     "grade": true,
     "grade_id": "cell-49e036e0fa3ef481",
     "locked": false,
     "points": 2,
     "schema_version": 1,
     "solution": true
    }
   },
   "outputs": [],
   "source": [
    "# your code here"
   ]
  },
  {
   "cell_type": "markdown",
   "metadata": {
    "deletable": false,
    "nbgrader": {
     "checksum": "0ed94f278cbb35b2cf8bdce7be179a75",
     "grade": true,
     "grade_id": "cell-ef8fa9b7a02ecbc1",
     "locked": false,
     "points": 2,
     "schema_version": 1,
     "solution": true
    }
   },
   "source": [
    "YOUR ANSWER HERE"
   ]
  },
  {
   "cell_type": "markdown",
   "metadata": {
    "deletable": false,
    "editable": false,
    "nbgrader": {
     "checksum": "b0f80ff1083b18ab423ffba621a73fae",
     "grade": false,
     "grade_id": "cell-e867dc64589601dd",
     "locked": true,
     "schema_version": 1,
     "solution": false
    }
   },
   "source": [
    "<h2>Question 1.d (3 marks)</h2>\n",
    "When we use $\\alpha = 0.01$ for a single hypothesis test, we expect to find a \"false positive\" (that is, we reject the null hypothesis when we should not have) in around 1 in 100 experiments.\n",
    "\n",
    "However, in Question 1.c, we did two hypothesis tests (one for each of our two methods). We will consider the implications of this below.\n",
    "\n",
    "Please do the following:\n",
    "- Assuming that the probability of finding a false positive is 1% for each experiment, calculate the probability of finding at least 1 false positive overall (for two hypothesis tests).\n",
    "- Calculate the probability of finding at least 1 false positive overall, if we tested 100 methods instead of just two.\n",
    "- Briefly discuss something you think data scientists could do to reduce the risk of false positives when performing multiple hypothesis tests at once. Justify your answer."
   ]
  },
  {
   "cell_type": "markdown",
   "metadata": {
    "deletable": false,
    "nbgrader": {
     "checksum": "c5b7e1c3e0f818664e9ced19a490c6b7",
     "grade": true,
     "grade_id": "cell-50783078a14a7076",
     "locked": false,
     "points": 3,
     "schema_version": 1,
     "solution": true
    }
   },
   "source": [
    "YOUR ANSWER HERE"
   ]
  },
  {
   "cell_type": "markdown",
   "metadata": {
    "deletable": false,
    "editable": false,
    "nbgrader": {
     "checksum": "f218b264eb57131ffc79e53a4c367fb8",
     "grade": false,
     "grade_id": "cell-f3a2631f20680559",
     "locked": true,
     "schema_version": 1,
     "solution": false
    }
   },
   "source": [
    "<h2>Question 1.e (5 marks)</h2>\n",
    "The engineers have decided, for other reasons than warping, to use one of the two new 3D printing methods instead of the old one. They would now like us to determine which of these two new printing methods is superior.\n",
    "\n",
    "So, we need to test two hypotheses:\n",
    "\n",
    "- That method 1 is superior to method 2 (i.e. method1 has a <b>lower</b> mean warping than method2)\n",
    "- That method 2 is superior to method 1 (i.e. method2 has a <b>lower</b> mean warping than method1)\n",
    "\n",
    "For each of methods 1 and 2, please do the following (there are three cells below, corresponding to the the following three points):\n",
    "\n",
    "- Create a hypothesis test (defining the null and alternative hypotheses) which tests whether the chosen method is superior to the alternative method (i.e. either method 1 is superior to method 2, or method 2 is superior to method 1). Note that this should be a <b>one-sided</b> test.\n",
    "- Calculate a p-value\n",
    "- Interpret the p-value, using a confidence level $\\alpha = 0.01$\n",
    "\n",
    "<b>Do not use the inbuilt t.test function in R to answer this question. Use the formulas in the lecture notes to calculate the values from scratch. You may write your own version of a t-test function if you like, but you don't have to do this.</b>"
   ]
  },
  {
   "cell_type": "markdown",
   "metadata": {
    "deletable": false,
    "nbgrader": {
     "checksum": "97536f27b6bea689317e54910a7f6291",
     "grade": true,
     "grade_id": "cell-a3ad4f30d8ff49dc",
     "locked": false,
     "points": 2,
     "schema_version": 1,
     "solution": true
    }
   },
   "source": [
    "YOUR ANSWER HERE"
   ]
  },
  {
   "cell_type": "code",
   "execution_count": null,
   "metadata": {
    "deletable": false,
    "nbgrader": {
     "checksum": "5193c2ac0ebbb99113838f678666faf2",
     "grade": true,
     "grade_id": "cell-87c00949fd857a56",
     "locked": false,
     "points": 2,
     "schema_version": 1,
     "solution": true
    }
   },
   "outputs": [],
   "source": [
    "# your code here"
   ]
  },
  {
   "cell_type": "markdown",
   "metadata": {
    "deletable": false,
    "nbgrader": {
     "checksum": "d25ace974f05f84ac2a67c492c8be93d",
     "grade": true,
     "grade_id": "cell-f219acad3b917ddd",
     "locked": false,
     "points": 1,
     "schema_version": 1,
     "solution": true
    }
   },
   "source": [
    "YOUR ANSWER HERE"
   ]
  },
  {
   "cell_type": "markdown",
   "metadata": {
    "deletable": false,
    "editable": false,
    "nbgrader": {
     "checksum": "4a71d31afe4ce3a807e19fa1ea7d557f",
     "grade": false,
     "grade_id": "cell-c1e32afbaf648e01",
     "locked": true,
     "schema_version": 1,
     "solution": false
    }
   },
   "source": [
    "<h2>Question 1.f (2 marks)</h2>\n",
    "If you completed Question 1.e correctly, you should have found that the two p-values calculated (one for each of the two methods) sum to 1. Or, put another way, each p-value is $1 - $ the other p-value.\n",
    "\n",
    "Explain why this should be the case, justifying your answer."
   ]
  },
  {
   "cell_type": "markdown",
   "metadata": {
    "deletable": false,
    "nbgrader": {
     "checksum": "9bc6c8d7b375ede30f02918f2d5a4b5d",
     "grade": true,
     "grade_id": "cell-c310794ab56a9eb4",
     "locked": false,
     "points": 2,
     "schema_version": 1,
     "solution": true
    }
   },
   "source": [
    "YOUR ANSWER HERE"
   ]
  },
  {
   "cell_type": "markdown",
   "metadata": {
    "deletable": false,
    "editable": false,
    "nbgrader": {
     "checksum": "d11cb26b7c97bfa1e3d3a698d4985f18",
     "grade": false,
     "grade_id": "cell-01827fa9a27bbb03",
     "locked": true,
     "schema_version": 1,
     "solution": false
    }
   },
   "source": [
    "<h2>Question 2 - Logistic Regression (19 marks)</h2>\n",
    "\n",
    "The engineers are now doing the first production run, which is going to take a while. One of your colleagues has challenged you to a game of chess while you wait for the test run to complete.\n",
    "\n",
    "The game is being played by correspondance (meaning that you aren't playing over a board, and can do other things while you play). Your opponent neglected to tell you that they are a former Australian chess champion, and you have unfortunately found yourself in a tricky position.\n",
    "\n",
    "Your opponent is now beginning to gloat, and has asked you to resign so as to not waste the time of such a great chess player as them (they're only kidding but it still hurts). You think that maybe you can use data science to determine whether the position is lost (meaning you should resign) or drawn (meaning you should keep playing and teach your colleague a lesson).\n",
    "\n",
    "One of your other colleagues suggested that, since your opponent is so good, they surely should be able to win in ten turns or less. Your opponent has agreed to these rules - if they cannot beat you in ten turns, the game will be declared a draw.\n",
    "\n",
    "You've found a dataset which contains thousands of chess positions where white has a rook and a king, and black has a king. Each entry in the original dataset also includes whether the position is winnable by white some number of turns (labelled by the number of turns, e.g. \"one\", \"two\", ..., \"fifteen\", \"sixteen\") or not (labelled \"draw\", since black can only draw with a king). In each position, it is black's turn to play.\n",
    "\n",
    "The code cell below imports the dataset and does a small transformation on it, converting it from a 17-class problem (\"draw\", \"one\", \"two\", ..., \"sixteen\") to a binary problem (\"loss\" or \"draw\"), where a position is considered a draw if either black can force a draw, or if white cannot win within ten moves (with optimal play on both sides). Each entry in this transformed dataset contains the following information:\n",
    "\n",
    "- The white king's file (A, B, ..., H)\n",
    "- The white king's rank (1, 2, ..., 8)\n",
    "- The white rook's file (A, B, ..., H)\n",
    "- The white rook's rank (1, 2, ..., 8)\n",
    "- The black king's file (A, B, ..., H)\n",
    "- The black king's rank (1, 2, ..., 8)\n",
    "- The optimal end result of this position for black (\"loss\" if the position can be won by white in less than 10 moves, and \"draw\" otherwise). \n",
    "\n",
    "<b>Important Note: In this question, you might see the error message \"prediction from a rank-deficient fit may be misleading...\" show up. You can ignore this for the purposes of this assignment (try to think why we might be seeing a \"rank-deficient\" fit - there's a discussion at https://stats.stackexchange.com/questions/35071/what-is-rank-deficiency-and-how-to-deal-with-it if you're curious).</b>\n",
    "\n",
    "<b>Background information</b> This dataset is derived from a real dataset, which was \"generated by Michael Bain and Arthur van Hoff at the Turing Institute, Glasgow, UK\". You can find the original dataset in the UCI repository at https://archive.ics.uci.edu/ml/datasets/Chess+%28King-Rook+vs.+King%29 (but don't download the dataset from there; instead, use the code that we have provided below as well as the file \"krkopt.data\" on Moodle)."
   ]
  },
  {
   "cell_type": "code",
   "execution_count": null,
   "metadata": {
    "deletable": false,
    "editable": false,
    "nbgrader": {
     "checksum": "c25d5426e07cf0bab63fcc0966552b89",
     "grade": false,
     "grade_id": "cell-b87295b283cb8e03",
     "locked": true,
     "schema_version": 1,
     "solution": false
    }
   },
   "outputs": [],
   "source": [
    "N = 250\n",
    "\n",
    "set.seed(42)\n",
    "\n",
    "raw.df <- read.csv(\"krkopt.data\")\n",
    "names(raw.df) <- c(\"wk_file\", \"wk_rank\", \"wr_file\", \"wr_rank\", \"bk_file\", \"bk_rank\", \"result\")\n",
    "\n",
    "draws <- c(\"draw\", \"eleven\", \"twelve\", \"thirteen\", \"fourteen\", \"fifteen\", \"sixteen\")\n",
    "\n",
    "draw.idx <- raw.df$result %in% draws\n",
    "loss.idx <- !draw.idx\n",
    "\n",
    "draw.df <- raw.df[draw.idx,]\n",
    "loss.df <- raw.df[loss.idx,]\n",
    "\n",
    "draw.df$result = 1\n",
    "loss.df$result = 0\n",
    "\n",
    "draw.df <- draw.df[sample(nrow(draw.df), N),]\n",
    "loss.df <- loss.df[sample(nrow(loss.df), N),]\n",
    "\n",
    "raw.df <- rbind(draw.df, loss.df)\n",
    "raw.df <- raw.df[sample(nrow(raw.df)),]\n",
    "head(raw.df)"
   ]
  },
  {
   "cell_type": "markdown",
   "metadata": {
    "deletable": false,
    "editable": false,
    "nbgrader": {
     "checksum": "6362ff0e2fb066c7f59b1ff8299da3a5",
     "grade": false,
     "grade_id": "cell-07f9eb1f1f449db1",
     "locked": true,
     "schema_version": 1,
     "solution": false
    }
   },
   "source": [
    "<h2>Question 2.a (5 marks)</h2>\n",
    "Before we can use our dataset, we need to preprocess it to make it suitable for use in a logistic regression. At the moment, our dataset consists of four variables. The accuracy and material variables are categorical, so we will need to convert them to factors (technically, success is also categorical, but leaving it as 0 or 1 is ok here because we don't need to do one-hot encoding on binary variables - it would just revert to the same variable anyway due to our avoidance of the dummy variable trap, as discussed below).\n",
    "\n",
    "Additionally, because accuracy and material are categorical (and not just discrete), we need to perform \"one-hot encoding\" on these variables. One-hot encoding (referred to as \"indicator variables\" in the lectures - see slide 41 in week 8's lecture notes) is the process of taking a categorical feature (with $k$ possible values it can take) and converting it to a set of $k$ binary values (in practice we use $k-1$, to avoid the \"dummy variable trap\"). It is important to do this because, when categorical variables are encoded as a single integer (e.g. \"red\" = 1, \"green\" = 2, \"blue\" = 3, ...), a logistic regression (and many other modelling techniques) will fit the feature as though \"red\" is closer to \"green\" than it is to \"blue\" (since 1 is closer to 2 than to 3). So, we split the values up into individual variables to avoid this.\n",
    "\n",
    "In fact, R's built-in logistic regression automatically performs one-hot encoding on factor variables prior to running the algorithm (but we're going to ignore that and implement the encoding ourselves instead). To learn more about one-hot encoding, Wikipedia has a good page on it at https://en.wikipedia.org/wiki/Dummy_variable_(statistics) (note that this technique goes by several names, including one-hot encoding, dummy variables, indicator variables, and a few others listed on the Wikipedia page).\n",
    "\n",
    "When we perform one-hot encoding, we take the dataset and, for each column we wish to encode:\n",
    "\n",
    " - Find how many different values the factor variable can take, using the levels() function; call this number $k$\n",
    " - Create $k-1$ new columns in the data-frame, corresponding to each level of the factor. For each row, set the value to 1 if the original variable's value corresponded to the column, and 0 otherwise. If the variable took the last value of the factor (the $k$-th value), just set them all to 0. We use $k-1$ columns to avoid the \"dummy variable trap\" (https://en.wikipedia.org/wiki/Dummy_variable_(statistics))\n",
    " - Don't forget to delete the original factor column from the data frame when you're done\n",
    "\n",
    "So, prepare our dataset as follows:\n",
    "\n",
    " 1. Write a function to.factors, which takes the variables listed below and returns a data-frame identical to df, except that the columns listed in col.names have been converted to factor columns\n",
    "     - df is a data frame for which we wish to convert some variables to factors\n",
    "     - col.names is a vector of strings, where eahc string corresponds to the name of a column in the data-frame which we want to convert to a factor column using the to.factor() function\n",
    "\n",
    "\n",
    " 2. Write a function one.hot.encode, which takes two variables (df and to.encode) and returns a data-frame identical to df, except that the factor columns listed in to.encode have been replaced with one-hot encoding columns as described above\n",
    "     - df is a data frame which we wish to apply one-hot encoding to\n",
    "     - to.encode is a vector of strings, where each string corresponds to the name of a column in the data-frame which we want to convert from a factor column to a one-hot encoding\n",
    "\n",
    "The to.factors function should look like this:\n",
    "\n",
    "    to.factors <- function(df, col.names) {\n",
    "        # Your code here\n",
    "    }\n",
    "\n",
    "\n",
    "\n",
    "The one.hot.encode function should look like this:\n",
    "    \n",
    "    one.hot <- function(df, to.encode) {\n",
    "        # Your code here\n",
    "    }"
   ]
  },
  {
   "cell_type": "code",
   "execution_count": null,
   "metadata": {
    "deletable": false,
    "nbgrader": {
     "checksum": "10f606f86b793f48f772c3dcc2a78abb",
     "grade": true,
     "grade_id": "cell-0cdd1016d1579628",
     "locked": false,
     "points": 5,
     "schema_version": 1,
     "solution": true
    }
   },
   "outputs": [],
   "source": [
    "# your code here"
   ]
  },
  {
   "cell_type": "code",
   "execution_count": null,
   "metadata": {
    "deletable": false,
    "editable": false,
    "nbgrader": {
     "checksum": "bf337bc71daaab84db679081c3e5ad33",
     "grade": false,
     "grade_id": "cell-605dfeb48350ef16",
     "locked": true,
     "schema_version": 1,
     "solution": false
    }
   },
   "outputs": [],
   "source": [
    "preprocess <- function(df, factor.names) {\n",
    "    fact.df <- to.factors(df, factor.names)\n",
    "    one.hot.df <- one.hot(fact.df, factor.names)\n",
    "    \n",
    "    return (one.hot.df)\n",
    "}\n",
    "\n",
    "factor.names <- c(\"wk_file\", \"wk_rank\", \"wr_file\", \"wr_rank\", \"bk_file\", \"bk_rank\")\n",
    "df.student.preprocessed <- preprocess(raw.df, factor.names)\n",
    "\n",
    "head(df.student.preprocessed)"
   ]
  },
  {
   "cell_type": "markdown",
   "metadata": {
    "deletable": false,
    "editable": false,
    "nbgrader": {
     "checksum": "186dbaaac4f4e6dc03f3ffc95e7574be",
     "grade": false,
     "grade_id": "cell-c158c0c1f48996ff",
     "locked": true,
     "schema_version": 1,
     "solution": false
    }
   },
   "source": [
    "<h2>Question 2.b (3 marks)</h2>\n",
    "<b>Important note: the rest of the questions in Question 2 rely on the dataset created in Question 2.a. To ensure you are not disadvantaged when answering the rest of these questions, we have provided another dataset (\"krkopt_preprocessed.csv\") which is the expected result from the code in Question 2.a. You <i>must</i> use this new dataset for the remainder of Question 2 (the code cell immediately below this question will import the data as \"df.processed\") You can compare your output from Question 2.a to this dataset if you want to check your code for Question 2.a.</b>\n",
    "\n",
    "We now have a dataset which has been preprocessed and is ready for use with R's built-in glm() function.\n",
    "\n",
    "Perform the following steps in the code block two blocks down (under the block that reads \"krkopt_preprocessed.csv\"):\n",
    "\n",
    "1. Use glm() to create a linear regression\n",
    "2. Use the predict() function to find the estimated probabilities for the training set (using type=\"response\") <b>Store these probabilities in a variable called \"probs\"</b>\n",
    "3. Convert these probabilities into categorical predictions, and find the accuracy of the model. <b>Store these predictions in a variable called \"preds\".\n",
    "\n",
    "The code block underneath this one plots the predicted probability of success (on the x-axis) vs. whether the print was a success or not (on the y-axis).\n",
    "\n",
    "Do not import any libraries to do any of the above tasks, as they are doable in R without importing other libraries."
   ]
  },
  {
   "cell_type": "code",
   "execution_count": null,
   "metadata": {
    "deletable": false,
    "editable": false,
    "nbgrader": {
     "checksum": "db57702984259d7ed4fa9f44648de89e",
     "grade": false,
     "grade_id": "cell-16353df0eb95627f",
     "locked": true,
     "schema_version": 1,
     "solution": false
    }
   },
   "outputs": [],
   "source": [
    "df.processed <- read.csv(\"krkopt_preprocessed.csv\")\n",
    "\n",
    "head(df.processed)"
   ]
  },
  {
   "cell_type": "code",
   "execution_count": null,
   "metadata": {
    "deletable": false,
    "nbgrader": {
     "checksum": "501c733daf7d496d23f1b66efe73214a",
     "grade": true,
     "grade_id": "cell-a32209d09a8d311f",
     "locked": false,
     "points": 3,
     "schema_version": 1,
     "solution": true
    }
   },
   "outputs": [],
   "source": [
    "# your code here"
   ]
  },
  {
   "cell_type": "code",
   "execution_count": null,
   "metadata": {
    "deletable": false,
    "editable": false,
    "nbgrader": {
     "checksum": "1455d91018e61bf609b87e4d660f68e2",
     "grade": false,
     "grade_id": "cell-2b434249f017e60a",
     "locked": true,
     "schema_version": 1,
     "solution": false
    }
   },
   "outputs": [],
   "source": [
    "plot(df.processed$result ~ probs)\n",
    "table(preds, df.processed$result)"
   ]
  },
  {
   "cell_type": "markdown",
   "metadata": {
    "deletable": false,
    "editable": false,
    "nbgrader": {
     "checksum": "72e8383e0a2893201d931c93f31627ca",
     "grade": false,
     "grade_id": "cell-c51bf3b6d527ceac",
     "locked": true,
     "schema_version": 1,
     "solution": false
    }
   },
   "source": [
    "<h2>Question 2.c (4 marks)</h2>\n",
    "The above model seems to do reasonably well, but let's see if we can do better using some variable selection.\n",
    "\n",
    "You've been discussing your model with some of your colleagues, and they have made several suggestions:\n",
    "\n",
    " - One colleague has suggested that it does not matter where the rook or the white king is (only where the black king is); that is, we only need to consider the following variables:\n",
    " \n",
    "     - bk_rank_1, bk_rank_2, ..., bk_rank_7\n",
    "     - bk_file_1, bk_file_2, bk_file_3\n",
    "\n",
    "\n",
    "- Another colleague has suggested that it only matters where the white rook is; that is, we only need to consider the following variables:\n",
    "\n",
    "     - wr_rank_1, wr_rank_2, ..., wr_rank_7\n",
    "     - wr_file_1, wr_file_2, ..., wr_rank_7,\n",
    "     - wk_rank_1, wk_rank_2, wk_rank_3\n",
    "     - wk_file_1, wk_file_2, wk_file_3\n",
    "\n",
    "\n",
    " - Your opponent has heard what you've been up to, and they have suggested that it only matters where the white rook is (not the black or white king king). You don't trust them, but you'll give it a try... you only need to consider the following variables:\n",
    " \n",
    "     - wr_rank_1, wr_rank_2, wr_rank_3\n",
    "     - wr_file_1, wr_file_2, wk_file_3\n",
    "     \n",
    "For each of these three proposals, create a linear model which only contains those variables. Then calculate the accuracy of each of these models using the evaluate function provided."
   ]
  },
  {
   "cell_type": "code",
   "execution_count": null,
   "metadata": {
    "deletable": false,
    "editable": false,
    "nbgrader": {
     "checksum": "30f7642c9f3329c3befc7b6dc1219f7c",
     "grade": false,
     "grade_id": "cell-5aa4104f68b5e638",
     "locked": true,
     "schema_version": 1,
     "solution": false
    }
   },
   "outputs": [],
   "source": [
    "evaluate <- function(fit, truth) {\n",
    "    probs <- predict(fit, type=\"response\")\n",
    "    preds <- probs > 0.5\n",
    "    accuracy <- mean(preds == truth)\n",
    "    \n",
    "    return (accuracy)\n",
    "}"
   ]
  },
  {
   "cell_type": "code",
   "execution_count": null,
   "metadata": {
    "deletable": false,
    "nbgrader": {
     "checksum": "a8df06e655f4a90f6d5c2aa6ebc1f013",
     "grade": true,
     "grade_id": "cell-38efde9ef475383c",
     "locked": false,
     "points": 4,
     "schema_version": 1,
     "solution": true
    }
   },
   "outputs": [],
   "source": [
    "# your code here"
   ]
  },
  {
   "cell_type": "markdown",
   "metadata": {
    "deletable": false,
    "editable": false,
    "nbgrader": {
     "checksum": "b9a04a3038a59c96505629398bbf9cba",
     "grade": false,
     "grade_id": "cell-cc60c865de44c6af",
     "locked": true,
     "schema_version": 1,
     "solution": false
    }
   },
   "source": [
    "<h2>Question 2.d (1 mark)</h2>\n",
    "We can also use an automated, step-wise process to determine remove variables, using R's built-in step() function.\n",
    "\n",
    "The code to do this is already given to you in the first code cell below, as a function called \"to.stepwise\". You need to call this function in the second code cell below, two times. Each time will use a different value of k:\n",
    "\n",
    " - fit.aic: uses k = 2\n",
    " - fit.bic: uses k = log(N) where your dataset has N rows\n",
    "\n",
    "You should then run the third code cell below, which will call your evaluate() function on fit.aic and fit.bic. Take a look at how the AIC and BIC models do in comparison to the three models we came up with above (we'll discuss this in the next question)."
   ]
  },
  {
   "cell_type": "code",
   "execution_count": null,
   "metadata": {
    "deletable": false,
    "editable": false,
    "nbgrader": {
     "checksum": "4e7328324203b47390b0361015d9efb1",
     "grade": false,
     "grade_id": "cell-286efc1decde74e8",
     "locked": true,
     "schema_version": 1,
     "solution": false
    }
   },
   "outputs": [],
   "source": [
    "to.stepwise <- function(df, k) {\n",
    "    fit <- glm(result ~ ., family=\"binomial\", data=df)\n",
    "    return (step(fit, k=k))\n",
    "}"
   ]
  },
  {
   "cell_type": "code",
   "execution_count": null,
   "metadata": {
    "deletable": false,
    "nbgrader": {
     "checksum": "af595aa9cf4330d2ea134cf475c80675",
     "grade": true,
     "grade_id": "cell-86272f145b7e150a",
     "locked": false,
     "points": 1,
     "schema_version": 1,
     "solution": true
    }
   },
   "outputs": [],
   "source": [
    "# your code here"
   ]
  },
  {
   "cell_type": "code",
   "execution_count": null,
   "metadata": {
    "deletable": false,
    "editable": false,
    "nbgrader": {
     "checksum": "8649648dadffe5d963d8152dd2aec2a4",
     "grade": false,
     "grade_id": "cell-875723adb3d08f35",
     "locked": true,
     "schema_version": 1,
     "solution": false
    }
   },
   "outputs": [],
   "source": [
    "evaluate(fit.aic, df.processed$result)\n",
    "evaluate(fit.bic, df.processed$result)"
   ]
  },
  {
   "cell_type": "markdown",
   "metadata": {
    "deletable": false,
    "editable": false,
    "nbgrader": {
     "checksum": "be3c13da39f47c4be1764c88964fa8a1",
     "grade": false,
     "grade_id": "cell-612455e9b9a7631c",
     "locked": true,
     "schema_version": 1,
     "solution": false
    }
   },
   "source": [
    "<h2>Question 2.e (2 marks)</h2>\n",
    "The step-wise AIC method, if implemented correctly, should find the formula\n",
    "\n",
    "    result ~ wk_rank_1 + wk_rank_2 + wk_rank_3 + wr_rank_3 + wr_rank_4 + \n",
    "        wr_rank_5 + bk_rank_1 + bk_rank_2 + bk_rank_4 + bk_rank_5 + \n",
    "        bk_rank_6 + bk_rank_7\n",
    "    \n",
    "with accuracy at around 0.808.\n",
    "\n",
    "The step-wise BIC method, if implemented correctly, should find the formula\n",
    "\n",
    "    result ~ wk_rank_1 + wk_rank_2 + bk_rank_1 + bk_rank_2 + bk_rank_4 + \n",
    "        bk_rank_5 + bk_rank_6 + bk_rank_7\n",
    "\n",
    "with accuracy at around 0.794.\n",
    "\n",
    "Given all this information, were any of your colleagues right? Or were they all wrong? Also, can you draw a conclusion from the formula found by BIC as to which pieces are important to have in the right position (out of the white king, the black king or the white rook)? Be sure to justify your answer."
   ]
  },
  {
   "cell_type": "markdown",
   "metadata": {
    "deletable": false,
    "nbgrader": {
     "checksum": "777e32f2d601a78a8123ef116d946b25",
     "grade": true,
     "grade_id": "cell-c6d92df21194e44f",
     "locked": false,
     "points": 2,
     "schema_version": 1,
     "solution": true
    }
   },
   "source": [
    "YOUR ANSWER HERE"
   ]
  },
  {
   "cell_type": "markdown",
   "metadata": {
    "deletable": false,
    "editable": false,
    "nbgrader": {
     "checksum": "9b4bedbd016ce2c415230e061995c6c6",
     "grade": false,
     "grade_id": "cell-3a845524cfba567a",
     "locked": true,
     "schema_version": 1,
     "solution": false
    }
   },
   "source": [
    "<h2>Question 2.f (2 marks)</h2>\n",
    "You have finished your model, and have decided to use the AIC model (which should be saved as a variable named \"fit.aic\"). You now want to apply your model to the chess position you find yourself in against your colleague.\n",
    "\n",
    "You are in the following position (it's your move, i.e. black's move):\n",
    "\n",
    "<img src=\"chess_pos.png\" alt=\"drawing\" width=\"200\"/>\n",
    "<!--![Chess Position](chess_pos.png)-->\n",
    "\n",
    "<i>Note: the above image will only show if you include the file \"chess_pos.png\" (contained in the \"data.zip\" file you've been given on Moodle) in the same folder as this Jupyter notebook, and then re-run this Markdown cell by putting it into edit mode and then running it. Alternatively, you can just look at the file itself.</i>\n",
    "\n",
    "This position has the following variable values:\n",
    " \n",
    " - wk_file = c\n",
    " - wk_rank = 3\n",
    " - wr_file = f\n",
    " - wr_rank = 5\n",
    " - bk_file = e\n",
    " - bk_rank = 5\n",
    "\n",
    "You will need to convert this position into a dataframe of one row with the one-hot encoding we used above, and then pass this into the predict function using the model \"fit.aic\" and using type=\"response\" for the predict function to get a probability.\n",
    "\n",
    "Do this in the cell below and see what result you get. Then, in the Markdown cell below that, state whether your model indicates that you truly should resign in this position (i.e. the position is lost) or whether your opponent was bluffing (i.e. the position does not seem to be winnable in less than 10 moves).\n",
    "\n",
    "<b>Note: you might be tempted to create a simple dataframe with one row and convert this to one-hot encoding using the functions you have defined above - this probably won't work, and we recommend that you create the dataframe using some other method. If you're curious, try to think about why this is the case.</b>\n",
    "\n",
    "<b>Hint: This Stack-Overflow post might help: https://stackoverflow.com/questions/10689055/create-an-empty-data-frame. In particular, consider how to use the line\n",
    "    \n",
    "    empty_df <- df[FALSE,]\n",
    "    \n",
    "</b>"
   ]
  },
  {
   "cell_type": "code",
   "execution_count": null,
   "metadata": {
    "deletable": false,
    "nbgrader": {
     "checksum": "45b443e3e77329072e40fbe1925885c5",
     "grade": true,
     "grade_id": "cell-6392aa38b567d392",
     "locked": false,
     "points": 1,
     "schema_version": 1,
     "solution": true
    }
   },
   "outputs": [],
   "source": [
    "# your code here"
   ]
  },
  {
   "cell_type": "markdown",
   "metadata": {
    "deletable": false,
    "nbgrader": {
     "checksum": "7ac6ce707dcc16c67362a7dd6238c7c6",
     "grade": true,
     "grade_id": "cell-ab9d014071ca65fd",
     "locked": false,
     "points": 1,
     "schema_version": 1,
     "solution": true
    }
   },
   "source": [
    "YOUR ANSWER HERE"
   ]
  },
  {
   "cell_type": "markdown",
   "metadata": {},
   "source": [
    "<h2>Question 2.g (2 marks)</h2>\n",
    "In our code above (and also in the code in Question 3), we train our models using all of our training data, and also evaluate the models on our training data. Describe a problem with this approach, and give an example of how we could fix this (other than leave-one-out cross-validation, which is used in Question 3)."
   ]
  },
  {
   "cell_type": "markdown",
   "metadata": {
    "deletable": false,
    "nbgrader": {
     "checksum": "165b1f6617c65d889736865d5090d8a6",
     "grade": true,
     "grade_id": "cell-0986dd1be543302c",
     "locked": false,
     "points": 2,
     "schema_version": 1,
     "solution": true
    }
   },
   "source": [
    "YOUR ANSWER HERE"
   ]
  },
  {
   "cell_type": "markdown",
   "metadata": {
    "deletable": false,
    "editable": false,
    "nbgrader": {
     "checksum": "a864cdae890795ca750e8c12ef91b5cb",
     "grade": false,
     "grade_id": "cell-decf4f2de1336b89",
     "locked": true,
     "schema_version": 1,
     "solution": false
    }
   },
   "source": [
    "<h2>Question 3 - Linear Regression (20 marks)</h2>\n",
    "\n",
    "Just as you give your opponent the finishing move that draws your chess game (which is no small feat against an Australian champion - you have the admiration of your colleagues), the engineers come running into your office in a panic. They tell you that their deadline for finishing their 3D printing process is tomorrow, but that they are still having trouble solving a problem with their printing process.\n",
    "\n",
    "They have printed 50 test cases, with varying degrees of success. They have found that a large number of their cases turn out very rough to the touch; they are concerned that management will see this and scrap the 3D printing project altogether (and their jobs with it!).\n",
    "\n",
    "You calmly ask them to send over all the data they have, and get to work developing a linear regression model to try to identify which component(s) of the process are causing the roughness problem.\n",
    "\n",
    "<b>Important Note: In this question, you might see the error message \"prediction from a rank-deficient fit may be misleading...\" show up. You can ignore this for the purposes of this assignment (try to think why we might be seeing a \"rank-deficient\" fit - there's a discussion at https://stats.stackexchange.com/questions/35071/what-is-rank-deficiency-and-how-to-deal-with-it if you're curious).</b>\n",
    "\n",
    "<b>Background information</b> This dataset is derived from a real dataset, which was uploaded to Kaggle on 9/14/2018 by Ahmet Okudan. The Kaggle upload indicates that the dataset \"comes from research by TR/Selcuk University Mechanical Engineering department\". More information can be found at https://www.kaggle.com/afumetto/3dprinter"
   ]
  },
  {
   "cell_type": "code",
   "execution_count": null,
   "metadata": {
    "deletable": false,
    "editable": false,
    "nbgrader": {
     "checksum": "442446b21c9c58b0577c7a67280104a3",
     "grade": false,
     "grade_id": "cell-01499d7d0f9eda2c",
     "locked": true,
     "schema_version": 1,
     "solution": false
    }
   },
   "outputs": [],
   "source": [
    "data.3d <- read.csv(\"data.csv\")\n",
    "data.3d <- data.3d[,-c(11, 12)]\n",
    "head(data.3d)"
   ]
  },
  {
   "cell_type": "markdown",
   "metadata": {
    "deletable": false,
    "editable": false,
    "nbgrader": {
     "checksum": "ea8b90f29c84f7fe7b88bfe600d5141e",
     "grade": false,
     "grade_id": "cell-ac703a3f1c1429e6",
     "locked": true,
     "schema_version": 1,
     "solution": false
    }
   },
   "source": [
    "<h2>Question 3.a (1 mark)</h2>\n",
    "\n",
    "First things first - we need to take a look at our data. Write a function \"plot.variables\" which takes two arguments - var.x and var.y. It then plots var.x vs var.y. Make sure your plots have a reasonable label (e.g. var.x vs var.y, substituting in the actual values of var.x and var.y) as well as reasonable x-axis and y-axis labels (e.g. var.x on the x-axis and var.y on the y-axis, again substituting the actual values of var.x and var.y).\n",
    "\n",
    "Your function should look like this:\n",
    "\n",
    "    plot.variables <- function(var1, var2) {\n",
    "        # Your code here\n",
    "    }\n",
    "    \n",
    "Then run the second code cell below, which will plot out all your other variables vs roughness."
   ]
  },
  {
   "cell_type": "code",
   "execution_count": null,
   "metadata": {
    "deletable": false,
    "nbgrader": {
     "checksum": "16fb0897c07fa06f275a399fb373b977",
     "grade": true,
     "grade_id": "cell-18c20aa93f7a3a78",
     "locked": false,
     "points": 1,
     "schema_version": 1,
     "solution": true
    }
   },
   "outputs": [],
   "source": [
    "# your code here"
   ]
  },
  {
   "cell_type": "code",
   "execution_count": null,
   "metadata": {
    "deletable": false,
    "editable": false,
    "nbgrader": {
     "checksum": "bac929d64d6c54846dd60f888c93961a",
     "grade": false,
     "grade_id": "cell-e9cd72dc1f039fab",
     "locked": true,
     "schema_version": 1,
     "solution": false
    }
   },
   "outputs": [],
   "source": [
    "par(mfrow=c(3, 2))\n",
    "\n",
    "options(repr.plot.width=6, repr.plot.height=6)\n",
    "\n",
    "for (name in names(data.3d)) {\n",
    "    if (name != \"roughness\") {\n",
    "        plot.variables(name, \"roughness\")\n",
    "    }\n",
    "}"
   ]
  },
  {
   "cell_type": "markdown",
   "metadata": {
    "deletable": false,
    "editable": false,
    "nbgrader": {
     "checksum": "446078456f0568359f55b3a1c2c3179c",
     "grade": false,
     "grade_id": "cell-d713612002a3ad19",
     "locked": true,
     "schema_version": 1,
     "solution": false
    }
   },
   "source": [
    "<h2>Question 3.b (1 mark)</h2>\n",
    "\n",
    "Now we have an idea of what our dataset looks like, we can start working on creating a linear model. Using R's built-in lm() function, create a linear model of roughness vs all the other variables in our dataset. Save this model in a variable called \"fit.lm\""
   ]
  },
  {
   "cell_type": "code",
   "execution_count": null,
   "metadata": {
    "deletable": false,
    "nbgrader": {
     "checksum": "7ab4afa0b2395d87c55cb0f20f212a9a",
     "grade": true,
     "grade_id": "cell-9b11504a0cd00878",
     "locked": false,
     "points": 1,
     "schema_version": 1,
     "solution": true
    }
   },
   "outputs": [],
   "source": [
    "# your code here"
   ]
  },
  {
   "cell_type": "code",
   "execution_count": null,
   "metadata": {
    "deletable": false,
    "editable": false,
    "nbgrader": {
     "checksum": "dba740ae48a3ad83e4ec77490d60e044",
     "grade": false,
     "grade_id": "cell-55423954a58459d6",
     "locked": true,
     "schema_version": 1,
     "solution": false
    }
   },
   "outputs": [],
   "source": [
    "fit.lm"
   ]
  },
  {
   "cell_type": "markdown",
   "metadata": {
    "deletable": false,
    "editable": false,
    "nbgrader": {
     "checksum": "39eeca015a8598d93e1a85a81f479d0a",
     "grade": false,
     "grade_id": "cell-21a37ed806d75a72",
     "locked": true,
     "schema_version": 1,
     "solution": false
    }
   },
   "source": [
    "<h2>Question 3.c (1 mark)</h2>\n",
    "\n",
    "It would be nice to get an idea of how our estimates compare with the true roughness values using a graph. In the code cell below, use R to create a plot of the predicted roughness (using our linear model) on the x-axis vs the actual roughness on the y-axis.\n",
    "\n",
    "Like in Question 3.a, make sure to use a reasonable label for both your plot and your axes."
   ]
  },
  {
   "cell_type": "code",
   "execution_count": null,
   "metadata": {
    "deletable": false,
    "nbgrader": {
     "checksum": "00cc0a66e82c41d0430c873587d87881",
     "grade": true,
     "grade_id": "cell-dbccf7395c230ad3",
     "locked": false,
     "points": 1,
     "schema_version": 1,
     "solution": true
    }
   },
   "outputs": [],
   "source": [
    "# your code here"
   ]
  },
  {
   "cell_type": "markdown",
   "metadata": {
    "deletable": false,
    "editable": false,
    "nbgrader": {
     "checksum": "1304210f5ef7502a9adc04b8076f6bdc",
     "grade": false,
     "grade_id": "cell-1ec0df52c6d700ba",
     "locked": true,
     "schema_version": 1,
     "solution": false
    }
   },
   "source": [
    "<h2>Question 3.d (2 marks)</h2>\n",
    "\n",
    "The graph seems to indicate that our model does reasonably well, but we would like to have more mathematically-sound way of determining how close our model gets, on average.\n",
    "\n",
    "Write a function, \"mean.sq.error\", which takes two arguments (model and df) and returns the mean <b>squared</b> error of the predictions determined by model and df.\n",
    "\n",
    "Then write another function, \"mean.abs.error\", which takes two arguments (model and df) and returns the mean <b>absolute</b> error of the predictions determined by model and df.\n",
    "\n",
    "Your MSE function should look like this:\n",
    "\n",
    "    mean.sq.error <- function(model, df) {\n",
    "        # Your code here\n",
    "    }\n",
    "    \n",
    "Your MAE function should look like this:\n",
    "\n",
    "    mean.abs.error <- function(model, df) {\n",
    "        # Your code here\n",
    "    }\n",
    "\n",
    "You may assume that \"roughness\" is the name of the target variable for the dataframe passed into your function (i.e., you can hard-code this into the function)."
   ]
  },
  {
   "cell_type": "code",
   "execution_count": null,
   "metadata": {
    "deletable": false,
    "nbgrader": {
     "checksum": "0ee8fd157b8f985be49cbab3caeb286a",
     "grade": true,
     "grade_id": "cell-ebdbb185fef8840f",
     "locked": false,
     "points": 2,
     "schema_version": 1,
     "solution": true
    }
   },
   "outputs": [],
   "source": [
    "# your code here"
   ]
  },
  {
   "cell_type": "code",
   "execution_count": null,
   "metadata": {
    "deletable": false,
    "editable": false,
    "nbgrader": {
     "checksum": "5d9cd5866369f29ed3829d3aa83c2d35",
     "grade": false,
     "grade_id": "cell-1b42cddee087d259",
     "locked": true,
     "schema_version": 1,
     "solution": false
    }
   },
   "outputs": [],
   "source": [
    "mean.sq.error(fit.lm, data.3d)\n",
    "mean.abs.error(fit.lm, data.3d)"
   ]
  },
  {
   "cell_type": "markdown",
   "metadata": {
    "deletable": false,
    "editable": false,
    "nbgrader": {
     "checksum": "5b7e054e11c78ba66804d73d06de285b",
     "grade": false,
     "grade_id": "cell-9c7e95f56b41ac55",
     "locked": true,
     "schema_version": 1,
     "solution": false
    }
   },
   "source": [
    "<h2>Question 3.e (1 mark)</h2>\n",
    "\n",
    "We need to narrow down what could be the cause for print roughness; we will use some variable selection to do this. Like in Question 2.d, we've given you the code for running step-wise variable selection, although (again, like in Question 2.d) you need to provide the values of k for the AIC (k = 2) and BIC (k = log(N) for N data points in our dataset). You need to call this function in the second code cell below, two times. Each time will use a different value of k:\n",
    "\n",
    " - fit.lm.aic: uses k = 2\n",
    " - fit.lm.bic: uses k = log(N) where your dataset has N rows\n",
    "\n",
    "You should then run the third code cell below, which will call your mean.sq.error() and mean.abs.error() functions on fit.lm.aic and fit.lm.bic. Take a look at how the AIC and BIC models do in comparison to the three models we came up with above (although you don't have to discuss this in your answer)."
   ]
  },
  {
   "cell_type": "code",
   "execution_count": null,
   "metadata": {
    "deletable": false,
    "editable": false,
    "nbgrader": {
     "checksum": "a42e44d0a13e1e1e300c1acf68b8ec83",
     "grade": false,
     "grade_id": "cell-0d513ddd47690e24",
     "locked": true,
     "schema_version": 1,
     "solution": false
    }
   },
   "outputs": [],
   "source": [
    "to.stepwise <- function(df, k) {\n",
    "    fit <- lm(roughness ~ ., data=df)\n",
    "    return (step(fit, k=k))\n",
    "}"
   ]
  },
  {
   "cell_type": "code",
   "execution_count": null,
   "metadata": {
    "deletable": false,
    "nbgrader": {
     "checksum": "8ce8687f2833e937b40ea6c2ee341a7a",
     "grade": true,
     "grade_id": "cell-71b7df979d7b7b8c",
     "locked": false,
     "points": 1,
     "schema_version": 1,
     "solution": true
    }
   },
   "outputs": [],
   "source": [
    "# your code here"
   ]
  },
  {
   "cell_type": "code",
   "execution_count": null,
   "metadata": {
    "deletable": false,
    "editable": false,
    "nbgrader": {
     "checksum": "f06012fb619e564966ef85199af510d0",
     "grade": false,
     "grade_id": "cell-caca7a76f9a85c09",
     "locked": true,
     "schema_version": 1,
     "solution": false
    }
   },
   "outputs": [],
   "source": [
    "mean.sq.error(fit.lm, data.3d)\n",
    "mean.sq.error(fit.lm.aic, data.3d)\n",
    "mean.sq.error(fit.lm.bic, data.3d)\n",
    "\n",
    "mean.abs.error(fit.lm, data.3d)\n",
    "mean.abs.error(fit.lm.aic, data.3d)\n",
    "mean.abs.error(fit.lm.bic, data.3d)"
   ]
  },
  {
   "cell_type": "markdown",
   "metadata": {
    "deletable": false,
    "editable": false,
    "nbgrader": {
     "checksum": "8190e753dc9f828b827c30ffc47160c1",
     "grade": false,
     "grade_id": "cell-a66278ba55f236bb",
     "locked": true,
     "schema_version": 1,
     "solution": false
    }
   },
   "source": [
    "<h2>Question 3.f (4 marks)</h2>\n",
    "\n",
    "Both the AIC and BIC models identify the same formula, and therefore remove the same variables:\n",
    "\n",
    "    roughness ~ layer_height + nozzle_temperature + bed_temperature + print_speed + material\n",
    "   \n",
    "   \n",
    "Use the summary() function on \"fit.lm\", \"fit.lm.aic\", and \"fit.lm.bic\" in the cell block below.\n",
    "\n",
    "In the markdown cell below the code cell, answer the following three questions:\n",
    "\n",
    "1. Do the variables removed by AIC and BIC all have large p-values?\n",
    "2. What does it means to have a large p-value?\n",
    "3. Why it is reasonable that your answer to the first of these three questions (\"Do the variables removed by AIC and BIC all have large p-values?\") would be what we expect to happen? You can answer this using intuition; you don't need to mathematically prove it."
   ]
  },
  {
   "cell_type": "code",
   "execution_count": null,
   "metadata": {
    "deletable": false,
    "nbgrader": {
     "checksum": "f0b2ae276ee1953d97099e63ce18efd0",
     "grade": true,
     "grade_id": "cell-c4c10b9369fa213f",
     "locked": false,
     "points": 1,
     "schema_version": 1,
     "solution": true
    }
   },
   "outputs": [],
   "source": [
    "# your code here"
   ]
  },
  {
   "cell_type": "markdown",
   "metadata": {
    "deletable": false,
    "nbgrader": {
     "checksum": "ddbe6d8a891efb02cc882525f37f2af1",
     "grade": true,
     "grade_id": "cell-441e8066cf010363",
     "locked": false,
     "points": 3,
     "schema_version": 1,
     "solution": true
    }
   },
   "source": [
    "YOUR ANSWER HERE"
   ]
  },
  {
   "cell_type": "markdown",
   "metadata": {
    "deletable": false,
    "editable": false,
    "nbgrader": {
     "checksum": "40317d43bec03a163afc2f98044f809a",
     "grade": false,
     "grade_id": "cell-2f9136fa48bc24db",
     "locked": true,
     "schema_version": 1,
     "solution": false
    }
   },
   "source": [
    "<h2>Question 3.g (3 marks)</h2>\n",
    "\n",
    "It is a problem that we are training and evaluating on the same dataset (in Question 2.g, we asked you to discuss why this is the case).\n",
    "\n",
    "One way to mitigate this problem is by using \"leave-one-out cross validation\", or LOOCV (https://en.wikipedia.org/wiki/Cross-validation_(statistics)#Leave-one-out_cross-validation). In LOOCV, for a dataset of size $N$ we train $N$ different models, where each model trains on all but one of the points in our dataset. We then evaluate the squared error from each model predicting the point we left out (hence the name \"leave-one-out\" CV), and average the final result.\n",
    "\n",
    "In the code cell below, implement a function \"cv.loo\", which takes as argument a dataset \"df\" and returns the average <b>squared prediction error</b> from LOOCV done on that dataset. You may assume that \"roughness\" is the name of the target variable for the dataframe passed into your function (i.e., you can hard-code this into the function).\n",
    "\n",
    "Your function should look something like this:\n",
    "\n",
    "    cv.loo <- function (df) {\n",
    "        # Your code here\n",
    "    }"
   ]
  },
  {
   "cell_type": "code",
   "execution_count": null,
   "metadata": {
    "deletable": false,
    "nbgrader": {
     "checksum": "56210c285c8032ed2a29bc38b733fb67",
     "grade": true,
     "grade_id": "cell-3ab83153d7e46ee1",
     "locked": false,
     "points": 3,
     "schema_version": 1,
     "solution": true
    }
   },
   "outputs": [],
   "source": [
    "# your code here"
   ]
  },
  {
   "cell_type": "code",
   "execution_count": null,
   "metadata": {
    "deletable": false,
    "editable": false,
    "nbgrader": {
     "checksum": "b2dcc48f92effc7efd470aec2b7cc253",
     "grade": false,
     "grade_id": "cell-051d3d3229acacdf",
     "locked": true,
     "schema_version": 1,
     "solution": false
    }
   },
   "outputs": [],
   "source": [
    "cv.loo(data.3d)"
   ]
  },
  {
   "cell_type": "markdown",
   "metadata": {
    "deletable": false,
    "editable": false,
    "nbgrader": {
     "checksum": "65253de756da03b8e29ccd9851d85f65",
     "grade": false,
     "grade_id": "cell-a35492d69579aba7",
     "locked": true,
     "schema_version": 1,
     "solution": false
    }
   },
   "source": [
    "<h2>Question 3.h (2 marks)</h2>\n",
    "\n",
    "The LOOCV error calculated in Question 3.g, if calculated correctly, was significantly higher than the training MSE. Why might this be the case? Describe one approach we might take to reduce this problem."
   ]
  },
  {
   "cell_type": "markdown",
   "metadata": {
    "deletable": false,
    "nbgrader": {
     "checksum": "e078c87bb4fb6fd1fbd0d00c1856c490",
     "grade": true,
     "grade_id": "cell-00a8f5a5d477d504",
     "locked": false,
     "points": 2,
     "schema_version": 1,
     "solution": true
    }
   },
   "source": [
    "YOUR ANSWER HERE"
   ]
  },
  {
   "cell_type": "markdown",
   "metadata": {
    "deletable": false,
    "editable": false,
    "nbgrader": {
     "checksum": "f3329a00dac8a49f8caa629c8bed81bb",
     "grade": false,
     "grade_id": "cell-ef81d0cf8e72be00",
     "locked": true,
     "schema_version": 1,
     "solution": false
    }
   },
   "source": [
    "<h2>Question 3.i (1 mark)</h2>\n",
    "In the code above, we use the LOOCV technique to help solve the problem (discussed in Question 2.g) where we evaluate on the trianing set. However, aside from validation techniques like this, it is also common to set aside another <i>testing</i> dataset, which we use at the very end of training our model as a final evaluation. For simplicity, we did not do this here (although perhaps we should have). Why do you think this is considered good practice? You might like to do some research on this (just be careful not to accidentally plaigarise your answer from another source)."
   ]
  },
  {
   "cell_type": "markdown",
   "metadata": {
    "deletable": false,
    "nbgrader": {
     "checksum": "f8efb376e8783dac80fb64c9270d1cd4",
     "grade": true,
     "grade_id": "cell-d8536880c49044d1",
     "locked": false,
     "points": 1,
     "schema_version": 1,
     "solution": true
    }
   },
   "source": [
    "YOUR ANSWER HERE"
   ]
  },
  {
   "cell_type": "markdown",
   "metadata": {
    "deletable": false,
    "editable": false,
    "nbgrader": {
     "checksum": "44ecdce1807800a14b9f76659b38b158",
     "grade": false,
     "grade_id": "cell-4259cda3f616350e",
     "locked": true,
     "schema_version": 1,
     "solution": false
    }
   },
   "source": [
    "<h2>Question 3.j (4 marks)</h2>\n",
    "\n",
    "The engineers are eagerly awaiting your analysis of their situation. Summarize your findings from the previous parts of this question, being sure to address the following points:\n",
    "\n",
    "1. Which variables do not appear to be related to roughness?\n",
    "2. Which variables do appear to be related to roughness?\n",
    "3. What are some (at least three) courses of action that the engineers could take to reduce the roughness of their 3D prints? You might need to do a little research on 3D printing to understand what each variable means."
   ]
  },
  {
   "cell_type": "markdown",
   "metadata": {
    "deletable": false,
    "nbgrader": {
     "checksum": "29539295941278a5fda59c47c2c36c54",
     "grade": true,
     "grade_id": "cell-fd8ec5c606a4017e",
     "locked": false,
     "points": 4,
     "schema_version": 1,
     "solution": true
    }
   },
   "source": [
    "YOUR ANSWER HERE"
   ]
  }
 ],
 "metadata": {
  "kernelspec": {
   "display_name": "R",
   "language": "R",
   "name": "ir"
  },
  "language_info": {
   "codemirror_mode": "r",
   "file_extension": ".r",
   "mimetype": "text/x-r-source",
   "name": "R",
   "pygments_lexer": "r",
   "version": "3.4.4"
  }
 },
 "nbformat": 4,
 "nbformat_minor": 2
}
